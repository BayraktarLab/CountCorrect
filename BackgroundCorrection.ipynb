{
 "cells": [
  {
   "cell_type": "markdown",
   "metadata": {},
   "source": [
    "# Background removal with CountCorrect\n",
    "In this notebook we show how to use CountCorrect to remove background from Nanostring WTA data"
   ]
  },
  {
   "cell_type": "markdown",
   "metadata": {},
   "source": [
    "Load the required packages for this notebook and configure theano settings to use CountCorrect on gpu:"
   ]
  },
  {
   "cell_type": "code",
   "execution_count": 1,
   "metadata": {},
   "outputs": [
    {
     "name": "stderr",
     "output_type": "stream",
     "text": [
      "Can not use cuDNN on context None: Disabled by dnn.enabled flag\n",
      "Mapped name None to device cuda: Tesla V100-SXM2-32GB (0000:89:00.0)\n"
     ]
    }
   ],
   "source": [
    "import sys,os\n",
    "import pickle\n",
    "import anndata\n",
    "import pandas as pd\n",
    "import numpy as np\n",
    "import scanpy as sc\n",
    "\n",
    "data_type = 'float32'\n",
    "os.environ[\"THEANO_FLAGS\"] = 'device=cuda,floatX=' + data_type + ',force_device=True' + ',dnn.enabled=False'\n",
    "\n",
    "import countcorrect as cc"
   ]
  },
  {
   "cell_type": "markdown",
   "metadata": {},
   "source": [
    "The model needs gene probe counts, negative probe counts and nuclei counts, which should all be available from the standard output files from the Nanostring WTA pipeline. All common formats, such as numpy arrays, pandas dataframes or list should be fine as inputs. Ideally you also supply the slide names, so the model can consider potential batch effects across different slides, but this is not essential. Here are example inputs that we will use in this notebook: "
   ]
  },
  {
   "cell_type": "code",
   "execution_count": 2,
   "metadata": {},
   "outputs": [
    {
     "name": "stdout",
     "output_type": "stream",
     "text": [
      "Gene Probe Counts: \n",
      " \n",
      " [[  4.   2.  67. ... 169.  38.  40.]\n",
      " [ 19.  13. 129. ... 129.  43.  42.]\n",
      " [  8.  12.  50. ...  81.  22.  18.]\n",
      " ...\n",
      " [114. 143. 139. ... 285. 189. 167.]\n",
      " [ 70.  57. 136. ... 135.  97.  77.]\n",
      " [ 65.  90. 146. ... 207. 148. 111.]] \n",
      "\n",
      "Negative Probe Counts: \n",
      " \n",
      " [[ 34.  34.  47. ...  29.  40.  44.]\n",
      " [ 43.  30.  61. ...  48.  50.  37.]\n",
      " [ 27.  26.  37. ...  32.  26.  29.]\n",
      " ...\n",
      " [ 82.  59.  97. ...  79. 104.  70.]\n",
      " [ 47.  47.  66. ...  53.  53.  49.]\n",
      " [ 62.  48.  67. ...  56.  81.  50.]] \n",
      "\n",
      "Nuclei Counts: \n",
      " \n",
      " 32      980\n",
      "35     1453\n",
      "40      491\n",
      "43     1347\n",
      "48      468\n",
      "       ... \n",
      "169     825\n",
      "176     724\n",
      "177     970\n",
      "184     550\n",
      "185    1319\n",
      "Name: nuclei, Length: 64, dtype: int64 \n",
      "\n",
      "Slide Names: \n",
      " \n",
      " 32     00MR\n",
      "35     00MR\n",
      "40     00MR\n",
      "43     00MR\n",
      "48     00MR\n",
      "       ... \n",
      "169    00MU\n",
      "176    00MU\n",
      "177    00MU\n",
      "184    00MU\n",
      "185    00MU\n",
      "Name: slide, Length: 64, dtype: object \n",
      "\n"
     ]
    }
   ],
   "source": [
    "adata_wta = pickle.load(open(\"data/fetalBrain_smallExample.p\", \"rb\"))\n",
    "counts_geneProbes = adata_wta.X[:,adata_wta.var_names != 'NegProbe-WTX']\n",
    "counts_negativeProbes = adata_wta.X[:,adata_wta.var_names == 'NegProbe-WTX']\n",
    "counts_nuclei = adata_wta.obs['nuclei']\n",
    "names_slides = adata_wta.obs['slide']\n",
    "print('Gene Probe Counts: \\n \\n', counts_geneProbes, '\\n')\n",
    "print('Negative Probe Counts: \\n \\n', counts_negativeProbes, '\\n')\n",
    "print('Nuclei Counts: \\n \\n', counts_nuclei, '\\n')\n",
    "print('Slide Names: \\n \\n', names_slides, '\\n')"
   ]
  },
  {
   "cell_type": "markdown",
   "metadata": {},
   "source": [
    "We can now run CountCorrect:"
   ]
  },
  {
   "cell_type": "code",
   "execution_count": 3,
   "metadata": {},
   "outputs": [
    {
     "name": "stdout",
     "output_type": "stream",
     "text": [
      "Initializing model...\n",
      "Using multi-slide model\n",
      "Fitting model ...\n"
     ]
    },
    {
     "data": {
      "text/html": [
       "\n",
       "    <div>\n",
       "        <style>\n",
       "            /* Turns off some styling */\n",
       "            progress {\n",
       "                /* gets rid of default border in Firefox and Opera. */\n",
       "                border: none;\n",
       "                /* Needs to be in here for Safari polyfill so background images work as expected. */\n",
       "                background-size: auto;\n",
       "            }\n",
       "            .progress-bar-interrupted, .progress-bar-interrupted::-webkit-progress-bar {\n",
       "                background: #F44336;\n",
       "            }\n",
       "        </style>\n",
       "      <progress value='20000' class='' max='20000' style='width:300px; height:20px; vertical-align: middle;'></progress>\n",
       "      100.00% [20000/20000 18:23<00:00 Average Loss = 5.2723e+06]\n",
       "    </div>\n",
       "    "
      ],
      "text/plain": [
       "<IPython.core.display.HTML object>"
      ]
     },
     "metadata": {},
     "output_type": "display_data"
    },
    {
     "name": "stderr",
     "output_type": "stream",
     "text": [
      "Finished [100%]: Average Loss = 5.2722e+06\n"
     ]
    },
    {
     "name": "stdout",
     "output_type": "stream",
     "text": [
      "[<matplotlib.lines.Line2D object at 0x14c4aa52b790>]\n",
      "[<matplotlib.lines.Line2D object at 0x14c4aa52b750>]\n"
     ]
    },
    {
     "data": {
      "image/png": "[encoded data removed]",
      "text/plain": [
       "<Figure size 432x288 with 1 Axes>"
      ]
     },
     "metadata": {
      "needs_background": "light"
     },
     "output_type": "display_data"
    },
    {
     "name": "stdout",
     "output_type": "stream",
     "text": [
      "[<matplotlib.lines.Line2D object at 0x14c4aca773d0>]\n"
     ]
    },
    {
     "data": {
      "image/png": "[encoded data removed]",
      "text/plain": [
       "<Figure size 432x288 with 1 Axes>"
      ]
     },
     "metadata": {
      "needs_background": "light"
     },
     "output_type": "display_data"
    },
    {
     "name": "stdout",
     "output_type": "stream",
     "text": [
      "Sampling from posterior distribution...\n",
      "Done.\n"
     ]
    }
   ],
   "source": [
    "results = cc.run_countcorrect(counts_geneProbes, counts_negativeProbes, counts_nuclei, slide_id = names_slides)"
   ]
  },
  {
   "cell_type": "markdown",
   "metadata": {},
   "source": [
    "The output is a dictionary, with corrected raw counts, as well as corrected normalized counts (Counts-Per-Million).\n",
    "It also includes the model name used (single-slide or multi-slide)."
   ]
  },
  {
   "cell_type": "code",
   "execution_count": 4,
   "metadata": {},
   "outputs": [
    {
     "data": {
      "text/plain": [
       "{'Model Name': 'Multi-Slide',\n",
       " 'RawCounts': array([[  0.,   0.,  35., ..., 168.,   0.,   0.],\n",
       "        [  0.,   0.,  95., ..., 128.,   0.,   0.],\n",
       "        [  0.,   0.,  34., ...,  81.,   0.,   0.],\n",
       "        ...,\n",
       "        [ 37.,  48.,  50., ..., 283.,  58.,  34.],\n",
       "        [ 34.,  12.,  94., ..., 134.,  36.,  15.],\n",
       "        [  6.,  16.,  77., ..., 205.,  47.,   8.]], dtype=float32),\n",
       " 'NormCounts': array([[  0.        ,   0.        ,  36.51717998, ..., 175.28246099,\n",
       "           0.        ,   0.        ],\n",
       "        [  0.        ,   0.        , 106.75716476, ..., 143.84122915,\n",
       "           0.        ,   0.        ],\n",
       "        [  0.        ,   0.        ,  82.5852112 , ..., 196.74711803,\n",
       "           0.        ,   0.        ],\n",
       "        ...,\n",
       "        [ 19.27102494,  25.00024675,  26.04192377, ..., 147.39729522,\n",
       "          30.20863187,  17.7085094 ],\n",
       "        [ 37.84779619,  13.35804609, 104.63802755, ..., 149.16484361,\n",
       "          40.07413736,  16.69755693],\n",
       "        [  4.04430693,  10.78481819,  51.9019377 , ..., 138.18047591,\n",
       "          31.68040348,   5.39240909]])}"
      ]
     },
     "execution_count": 4,
     "metadata": {},
     "output_type": "execute_result"
    }
   ],
   "source": [
    "results"
   ]
  },
  {
   "cell_type": "code",
   "execution_count": 7,
   "metadata": {},
   "outputs": [],
   "source": [
    "rawCounts_corrected = results['RawCounts']"
   ]
  },
  {
   "cell_type": "code",
   "execution_count": null,
   "metadata": {},
   "outputs": [],
   "source": []
  }
 ],
 "metadata": {
  "kernelspec": {
   "display_name": "Python [conda env:countcorrect]",
   "language": "python",
   "name": "conda-env-countcorrect-py"
  },
  "language_info": {
   "codemirror_mode": {
    "name": "ipython",
    "version": 3
   },
   "file_extension": ".py",
   "mimetype": "text/x-python",
   "name": "python",
   "nbconvert_exporter": "python",
   "pygments_lexer": "ipython3",
   "version": "3.7.10"
  }
 },
 "nbformat": 4,
 "nbformat_minor": 4
}
